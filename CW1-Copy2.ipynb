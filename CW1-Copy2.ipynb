{
 "cells": [
  {
   "cell_type": "code",
   "execution_count": 1,
   "id": "773b93f5",
   "metadata": {},
   "outputs": [],
   "source": [
    "import pandas as pd\n",
    "import numpy as np\n",
    "%matplotlib inline \n",
    "import matplotlib.pyplot as plt \n",
    "import seaborn as sns # For visualisations\n",
    "import math\n",
    "from scipy.stats import norm\n",
    "from scipy.stats import f_oneway\n",
    "from scipy.stats import gmean\n",
    "from scipy.stats import mode\n",
    "from scipy.stats import kurtosis\n",
    "from pandas.core.frame import DataFrame\n",
    "from scipy.stats import chi2\n",
    "from matplotlib import patches"
   ]
  },
  {
   "cell_type": "code",
   "execution_count": 2,
   "id": "779cb7ae",
   "metadata": {},
   "outputs": [],
   "source": [
    "filename = \"fish.txt\"\n",
    "time_weight_bait_data = pd.read_csv(filename, sep= \" \", header= None, index_col= None)"
   ]
  },
  {
   "cell_type": "code",
   "execution_count": 3,
   "id": "27344813",
   "metadata": {},
   "outputs": [
    {
     "data": {
      "text/plain": [
       "<bound method NDFrame.describe of          0     1  2\n",
       "0    15.25  2.40  B\n",
       "1     7.43  1.66  C\n",
       "2     7.17  2.75  C\n",
       "3     2.93  1.21  A\n",
       "4    11.07  0.39  C\n",
       "..     ...   ... ..\n",
       "395   8.34  0.83  A\n",
       "396  14.37  2.67  C\n",
       "397   2.63  3.55  C\n",
       "398   7.28  1.05  A\n",
       "399  12.38  0.87  C\n",
       "\n",
       "[400 rows x 3 columns]>"
      ]
     },
     "execution_count": 3,
     "metadata": {},
     "output_type": "execute_result"
    }
   ],
   "source": [
    "time_weight_bait_data.describe"
   ]
  },
  {
   "cell_type": "code",
   "execution_count": 4,
   "id": "f0ac57da",
   "metadata": {},
   "outputs": [],
   "source": [
    "#Give human-readable names to the columns\n",
    "time_weight_bait_data.columns=[\"Time\",\"Weight\",\"Type\"]"
   ]
  },
  {
   "cell_type": "code",
   "execution_count": 5,
   "id": "fc0c6826",
   "metadata": {},
   "outputs": [
    {
     "data": {
      "text/html": [
       "<div>\n",
       "<style scoped>\n",
       "    .dataframe tbody tr th:only-of-type {\n",
       "        vertical-align: middle;\n",
       "    }\n",
       "\n",
       "    .dataframe tbody tr th {\n",
       "        vertical-align: top;\n",
       "    }\n",
       "\n",
       "    .dataframe thead th {\n",
       "        text-align: right;\n",
       "    }\n",
       "</style>\n",
       "<table border=\"1\" class=\"dataframe\">\n",
       "  <thead>\n",
       "    <tr style=\"text-align: right;\">\n",
       "      <th></th>\n",
       "      <th>Time</th>\n",
       "      <th>Weight</th>\n",
       "    </tr>\n",
       "  </thead>\n",
       "  <tbody>\n",
       "    <tr>\n",
       "      <th>count</th>\n",
       "      <td>400.000000</td>\n",
       "      <td>400.00000</td>\n",
       "    </tr>\n",
       "    <tr>\n",
       "      <th>mean</th>\n",
       "      <td>9.370525</td>\n",
       "      <td>1.66740</td>\n",
       "    </tr>\n",
       "    <tr>\n",
       "      <th>std</th>\n",
       "      <td>5.796400</td>\n",
       "      <td>1.10816</td>\n",
       "    </tr>\n",
       "    <tr>\n",
       "      <th>min</th>\n",
       "      <td>0.010000</td>\n",
       "      <td>0.01000</td>\n",
       "    </tr>\n",
       "    <tr>\n",
       "      <th>25%</th>\n",
       "      <td>4.325000</td>\n",
       "      <td>0.70750</td>\n",
       "    </tr>\n",
       "    <tr>\n",
       "      <th>50%</th>\n",
       "      <td>9.020000</td>\n",
       "      <td>1.61500</td>\n",
       "    </tr>\n",
       "    <tr>\n",
       "      <th>75%</th>\n",
       "      <td>13.747500</td>\n",
       "      <td>2.40000</td>\n",
       "    </tr>\n",
       "    <tr>\n",
       "      <th>max</th>\n",
       "      <td>22.270000</td>\n",
       "      <td>4.88000</td>\n",
       "    </tr>\n",
       "  </tbody>\n",
       "</table>\n",
       "</div>"
      ],
      "text/plain": [
       "             Time     Weight\n",
       "count  400.000000  400.00000\n",
       "mean     9.370525    1.66740\n",
       "std      5.796400    1.10816\n",
       "min      0.010000    0.01000\n",
       "25%      4.325000    0.70750\n",
       "50%      9.020000    1.61500\n",
       "75%     13.747500    2.40000\n",
       "max     22.270000    4.88000"
      ]
     },
     "execution_count": 5,
     "metadata": {},
     "output_type": "execute_result"
    }
   ],
   "source": [
    "time_weight_bait_data.describe()"
   ]
  },
  {
   "cell_type": "code",
   "execution_count": 6,
   "id": "6867889b",
   "metadata": {},
   "outputs": [
    {
     "name": "stdout",
     "output_type": "stream",
     "text": [
      "Time      0.266856\n",
      "Weight    0.653793\n",
      "dtype: float64\n",
      "Time     -0.946594\n",
      "Weight    0.161891\n",
      "dtype: float64\n"
     ]
    }
   ],
   "source": [
    "print(time_weight_bait_data.skew())\n",
    "print(time_weight_bait_data.kurtosis())"
   ]
  },
  {
   "cell_type": "code",
   "execution_count": 7,
   "id": "6f0984f0",
   "metadata": {},
   "outputs": [
    {
     "data": {
      "text/plain": [
       "count    400.000000\n",
       "mean       9.370525\n",
       "std        5.796400\n",
       "min        0.010000\n",
       "25%        4.325000\n",
       "50%        9.020000\n",
       "75%       13.747500\n",
       "max       22.270000\n",
       "Name: Time, dtype: float64"
      ]
     },
     "execution_count": 7,
     "metadata": {},
     "output_type": "execute_result"
    }
   ],
   "source": [
    "time_weight_bait_data['Time'].describe()"
   ]
  },
  {
   "cell_type": "code",
   "execution_count": 8,
   "id": "c8f4cc90",
   "metadata": {},
   "outputs": [],
   "source": [
    "df = time_weight_bait_data.sort_values('Time')\n",
    "#df = df.drop(columns='Type')\n",
    "\n",
    "#arr_data = np.array(df)"
   ]
  },
  {
   "cell_type": "code",
   "execution_count": 9,
   "id": "93971d66",
   "metadata": {},
   "outputs": [
    {
     "name": "stdout",
     "output_type": "stream",
     "text": [
      "     Time  Weight Type\n",
      "0    2.93    1.21    A\n",
      "1    4.29    1.84    A\n",
      "2    4.08    1.05    A\n",
      "3    3.11    2.49    A\n",
      "4    3.33    3.97    A\n",
      "..    ...     ...  ...\n",
      "74  12.08    1.27    A\n",
      "75   3.03    2.85    A\n",
      "76   5.22    1.26    A\n",
      "77   8.34    0.83    A\n",
      "78   7.28    1.05    A\n",
      "\n",
      "[79 rows x 3 columns]\n"
     ]
    }
   ],
   "source": [
    "ti_weight_bait = time_weight_bait_data.iloc[-400:,[0,1,2]].values\n",
    "df_A = []\n",
    "df_B = []\n",
    "df_C = []\n",
    "for item in ti_weight_bait:\n",
    "    if item[2] == 'A':\n",
    "        df_A.append(item)\n",
    "    elif item[2] == 'B':\n",
    "        df_B.append(item)\n",
    "    elif item[2] == 'C':\n",
    "        df_C.append(item)\n",
    "\n",
    "df_A = pd.DataFrame(df_A)\n",
    "df_A.columns=[\"Time\",\"Weight\",\"Type\"]\n",
    "print (df_A)"
   ]
  },
  {
   "cell_type": "code",
   "execution_count": 10,
   "id": "60a6c421",
   "metadata": {},
   "outputs": [
    {
     "name": "stdout",
     "output_type": "stream",
     "text": [
      "     Time  Weight\n",
      "52   0.26    2.54\n",
      "36   0.39    1.85\n",
      "48   0.55    0.19\n",
      "16   0.65    2.26\n",
      "55   0.78    0.99\n",
      "..    ...     ...\n",
      "27  17.06    0.53\n",
      "47  18.22    1.92\n",
      "60  18.36    0.98\n",
      "30  19.95    1.30\n",
      "57  20.79    0.01\n",
      "\n",
      "[79 rows x 2 columns]\n"
     ]
    }
   ],
   "source": [
    "df_A = (df_A.drop('Type',axis=1)).sort_values('Time')\n",
    "print(df_A)"
   ]
  },
  {
   "cell_type": "code",
   "execution_count": 11,
   "id": "c724fabb",
   "metadata": {},
   "outputs": [],
   "source": [
    "CategoryGroupLists=df_A.groupby('Time')['Weight'].apply(list)"
   ]
  },
  {
   "cell_type": "code",
   "execution_count": 12,
   "id": "c862df57",
   "metadata": {},
   "outputs": [
    {
     "data": {
      "text/plain": [
       "Time\n",
       "0.26     [2.54]\n",
       "0.39     [1.85]\n",
       "0.55     [0.19]\n",
       "0.65     [2.26]\n",
       "0.78     [0.99]\n",
       "          ...  \n",
       "17.06    [0.53]\n",
       "18.22    [1.92]\n",
       "18.36    [0.98]\n",
       "19.95     [1.3]\n",
       "20.79    [0.01]\n",
       "Name: Weight, Length: 74, dtype: object"
      ]
     },
     "execution_count": 12,
     "metadata": {},
     "output_type": "execute_result"
    }
   ],
   "source": [
    "CategoryGroupLists"
   ]
  },
  {
   "cell_type": "code",
   "execution_count": 13,
   "id": "fd427b36",
   "metadata": {},
   "outputs": [],
   "source": [
    "# unique = df['Time'].index.unique  #看有没有重复的时间值\n",
    "b,s,t,w = np.unique(np.array(df_A['Time']),return_counts =True,return_index =True,return_inverse = True)\n",
    "#print(b,s,t,w)"
   ]
  },
  {
   "cell_type": "code",
   "execution_count": 14,
   "id": "7fa8e6e0",
   "metadata": {},
   "outputs": [
    {
     "data": {
      "text/plain": [
       "74"
      ]
     },
     "execution_count": 14,
     "metadata": {},
     "output_type": "execute_result"
    }
   ],
   "source": [
    "len(b)"
   ]
  },
  {
   "cell_type": "code",
   "execution_count": 15,
   "id": "d99bcc37",
   "metadata": {},
   "outputs": [],
   "source": [
    "y_uni = []\n",
    "for i in b:\n",
    "    if(len(CategoryGroupLists[i])==1):\n",
    "        y_uni.append(CategoryGroupLists[i])\n",
    "    elif (len(CategoryGroupLists[i])>1):\n",
    "        y_uni.append([sum(CategoryGroupLists[i])])"
   ]
  },
  {
   "cell_type": "code",
   "execution_count": 16,
   "id": "e566ab56",
   "metadata": {},
   "outputs": [],
   "source": [
    "y_unique = []\n",
    "for i in range(len(y_uni)):\n",
    "    y_unique.append(y_uni[i][0])"
   ]
  },
  {
   "cell_type": "code",
   "execution_count": 17,
   "id": "fc5243c0",
   "metadata": {},
   "outputs": [
    {
     "name": "stdout",
     "output_type": "stream",
     "text": [
      "0.8242993332885362\n"
     ]
    },
    {
     "data": {
      "image/png": "[encoded data removed]",
      "text/plain": [
       "<Figure size 432x288 with 1 Axes>"
      ]
     },
     "metadata": {
      "needs_background": "light"
     },
     "output_type": "display_data"
    }
   ],
   "source": [
    "x_time = b\n",
    "y_weight = y_unique\n",
    "y_accmutive = []\n",
    "totle = 0\n",
    "for i in range(len(x_time)):\n",
    "    totle = totle + y_weight[i]\n",
    "    y_accmutive.append(totle)\n",
    "\n",
    "from scipy.interpolate import make_interp_spline\n",
    "import matplotlib.pyplot as plt \n",
    "\n",
    "model=make_interp_spline(x_time, y_accmutive)\n",
    "xs=np.linspace(min(x_time),max(x_time),1000)\n",
    "ys=model(xs)\n",
    "didh4 = (model(15.0001)-model(15)) / 0.0001     \n",
    "print (didh4)     \n",
    "\n",
    "\n",
    "# slides=np.linspace(min(x_time),max(x_time),1000)\n",
    "# max_slope = []\n",
    "# for i in slides:\n",
    "#     diff = (model(i+0.001)-model(i)) / 0.001\n",
    "#     if (diff==a):\n",
    "#         print(i)\n",
    "#     max_slope.append(diff)\n",
    "# print(max(max_slope))\n",
    "#plt.plot([10,15+5],[115,1*model(15)+2],color ='orange',label = 'Fit curve') FOR A\n",
    "#plt.plot([10,15+5],[250,1*model(15)+100],color ='orange',label = 'Fit curve') For C\n",
    "plt.plot(xs, ys)\n",
    "plt.scatter(15,model(15),color = 'r',label='3pm')\n",
    "plt.title(\"Smooth Curve\")\n",
    "plt.xlabel(\"Time of catch\")\n",
    "plt.ylabel(\"Accumtive Size of catch\")\n",
    "plt.legend()\n",
    "plt.savefig(('besttime_C.png'))"
   ]
  },
  {
   "cell_type": "code",
   "execution_count": 18,
   "id": "aec2d1ea",
   "metadata": {},
   "outputs": [],
   "source": [
    "a=263.137824952949"
   ]
  },
  {
   "cell_type": "code",
   "execution_count": 19,
   "id": "d8849f23",
   "metadata": {},
   "outputs": [],
   "source": [
    "max_index =4.226256256256256"
   ]
  },
  {
   "cell_type": "code",
   "execution_count": 20,
   "id": "b0b4c96b",
   "metadata": {},
   "outputs": [
    {
     "data": {
      "text/plain": [
       "array(76.1862324)"
      ]
     },
     "execution_count": 20,
     "metadata": {},
     "output_type": "execute_result"
    }
   ],
   "source": [
    "model(max_index+0.001)"
   ]
  },
  {
   "cell_type": "code",
   "execution_count": 21,
   "id": "082ac6bc",
   "metadata": {},
   "outputs": [],
   "source": [
    "CategoryGroupLists=df.groupby('Time')['Weight'].apply(list)"
   ]
  },
  {
   "cell_type": "code",
   "execution_count": 22,
   "id": "ea1dbc88",
   "metadata": {},
   "outputs": [
    {
     "ename": "NameError",
     "evalue": "name 'y_max' is not defined",
     "output_type": "error",
     "traceback": [
      "\u001b[1;31m---------------------------------------------------------------------------\u001b[0m",
      "\u001b[1;31mNameError\u001b[0m                                 Traceback (most recent call last)",
      "\u001b[1;32m<ipython-input-22-33b5515270d7>\u001b[0m in \u001b[0;36m<module>\u001b[1;34m()\u001b[0m\n\u001b[1;32m----> 1\u001b[1;33m \u001b[0mprint\u001b[0m\u001b[1;33m(\u001b[0m\u001b[1;36m527.9704862471135\u001b[0m\u001b[1;33m,\u001b[0m\u001b[0mmax_index\u001b[0m\u001b[1;33m,\u001b[0m\u001b[0my_max\u001b[0m\u001b[1;33m)\u001b[0m\u001b[1;33m\u001b[0m\u001b[1;33m\u001b[0m\u001b[0m\n\u001b[0m",
      "\u001b[1;31mNameError\u001b[0m: name 'y_max' is not defined"
     ]
    }
   ],
   "source": [
    "print(527.9704862471135,max_index,y_max)"
   ]
  },
  {
   "cell_type": "code",
   "execution_count": null,
   "id": "b50b3399",
   "metadata": {},
   "outputs": [],
   "source": [
    "y = 527.9704862471135(0-3.1537407481496293 ) + 140.00204247018314"
   ]
  },
  {
   "cell_type": "code",
   "execution_count": null,
   "id": "09b7c334",
   "metadata": {},
   "outputs": [],
   "source": [
    "1,525.05, "
   ]
  },
  {
   "cell_type": "code",
   "execution_count": null,
   "id": "4cfe521c",
   "metadata": {},
   "outputs": [],
   "source": [
    "CategoryGroupLists"
   ]
  },
  {
   "cell_type": "code",
   "execution_count": null,
   "id": "9d486ede",
   "metadata": {},
   "outputs": [],
   "source": [
    "arr = np.array(time_weight_bait_data)"
   ]
  },
  {
   "cell_type": "code",
   "execution_count": null,
   "id": "889b6b64",
   "metadata": {},
   "outputs": [],
   "source": [
    "print(arr)\n",
    "print(len(arr))"
   ]
  },
  {
   "cell_type": "code",
   "execution_count": null,
   "id": "db0f710d",
   "metadata": {},
   "outputs": [],
   "source": [
    "time = np.array(df['Time'])\n",
    "weight = np.array(df['Weight'])"
   ]
  },
  {
   "cell_type": "code",
   "execution_count": null,
   "id": "eb40ece1",
   "metadata": {},
   "outputs": [],
   "source": [
    "print(kurtosis(time,fisher = False))\n",
    "print(kurtosis(weight,fisher = False))"
   ]
  },
  {
   "cell_type": "code",
   "execution_count": null,
   "id": "5fc5a9af",
   "metadata": {},
   "outputs": [],
   "source": [
    "time = np.sort(time)\n",
    "#算IQR of Time\n",
    "median = (time[199]+time[200])/2\n",
    "Q1 = (time[99]+time[100])/2\n",
    "Q3 = (time[299]+time[300])/2\n",
    "IQR = Q3-Q1\n",
    "h = (2*IQR)/400**(1/3)\n",
    "bins = (time[399]-time[0])/h"
   ]
  },
  {
   "cell_type": "code",
   "execution_count": null,
   "id": "3f6a29f5",
   "metadata": {},
   "outputs": [],
   "source": [
    "print(IQR)\n",
    "print(bins)\n",
    "print(math.ceil(bins))"
   ]
  },
  {
   "cell_type": "code",
   "execution_count": null,
   "id": "83b021dd",
   "metadata": {},
   "outputs": [],
   "source": [
    "#outlier\n",
    "fig, ax = plt.subplots()\n",
    "box_A = ax.boxplot(time_weight_bait_data['Time'])\n",
    "plt.title(\"X distribution\")\n",
    "plt.xlabel(\"Time of Catch\")\n",
    "plt.ylabel(\"Count\")\n",
    "plt.savefig(('X_box.png'))\n"
   ]
  },
  {
   "cell_type": "code",
   "execution_count": null,
   "id": "89b1a702",
   "metadata": {
    "scrolled": false
   },
   "outputs": [],
   "source": [
    "ax = sns.distplot(time,bins= math.ceil(bins),axlabel='Time of catch',hist_kws=dict(edgecolor=\"k\", linewidth=2))\n",
    "ax.set_title('X distribution')\n",
    "plt.savefig(('X_hist.png'))"
   ]
  },
  {
   "cell_type": "code",
   "execution_count": null,
   "id": "df86b20e",
   "metadata": {},
   "outputs": [],
   "source": [
    "weight = np.sort(weight)\n",
    "#算IQR of Time\n",
    "median = (weight[199]+weight[200])/2\n",
    "Q1 = (weight[99]+weight[100])/2\n",
    "Q3 = (weight[299]+weight[300])/2\n",
    "IQR = Q3-Q1\n",
    "h = (2*IQR)/400**(1/3)\n",
    "bins = (weight[399]-weight[0])/h"
   ]
  },
  {
   "cell_type": "code",
   "execution_count": null,
   "id": "e4c30e14",
   "metadata": {},
   "outputs": [],
   "source": [
    "print(IQR)\n",
    "print(bins)\n",
    "print(math.ceil(bins))"
   ]
  },
  {
   "cell_type": "code",
   "execution_count": null,
   "id": "0971a6f1",
   "metadata": {},
   "outputs": [],
   "source": [
    "#plt.hist(weight,math.ceil(bins))\n",
    "#plt.title(\"Wight distribution\")\n",
    "#plt.xlabel(\"Wight\")\n",
    "#plt.ylabel(\"Count\")\n",
    "#plt.show()\n",
    "ax = sns.distplot(weight,bins= math.ceil(bins),axlabel='Size of catch',hist_kws=dict(edgecolor=\"k\", linewidth=2))\n",
    "ax.set_title('Y distribution')\n",
    "plt.savefig(('Y_hist.png'))\n"
   ]
  },
  {
   "cell_type": "code",
   "execution_count": null,
   "id": "5c1235f1",
   "metadata": {},
   "outputs": [],
   "source": [
    "fig, ax = plt.subplots()\n",
    "box_A = ax.boxplot(time_weight_bait_data['Weight'])\n",
    "plt.title(\"Y distribution\")\n",
    "plt.xlabel(\"Size of Catch\")\n",
    "plt.ylabel(\"Count\")\n",
    "plt.savefig(('Y_box.png'))"
   ]
  },
  {
   "cell_type": "code",
   "execution_count": null,
   "id": "545e753d",
   "metadata": {},
   "outputs": [],
   "source": [
    "#计算 A,B,C分别钓到鱼的重量\n",
    "weight_A = 0\n",
    "count_A = 0\n",
    "weight_B = 0\n",
    "count_B = 0\n",
    "weight_C = 0\n",
    "count_C = 0\n",
    "for i in range(len(arr)):\n",
    "    if arr[i][2] =='A':\n",
    "        weight_A = weight_A+arr[i][1]\n",
    "        count_A = count_A +1\n",
    "    if arr[i][2] =='B':\n",
    "        weight_B = weight_B+arr[i][1]\n",
    "        count_B = count_B+1\n",
    "    if arr[i][2] =='C':\n",
    "        weight_C = weight_C+arr[i][1]\n",
    "        count_C = count_C +1"
   ]
  },
  {
   "cell_type": "code",
   "execution_count": null,
   "id": "20be5506",
   "metadata": {},
   "outputs": [],
   "source": [
    "print(weight_A)\n",
    "print(count_A)\n",
    "print(weight_B)\n",
    "print(count_B)\n",
    "print(weight_C)\n",
    "print(count_C)"
   ]
  },
  {
   "cell_type": "code",
   "execution_count": null,
   "id": "86f8f57d",
   "metadata": {},
   "outputs": [],
   "source": [
    "effective_A=weight_A/count_A # kg per count\n",
    "effective_B=weight_B/count_B\n",
    "effective_C=weight_C/count_C\n",
    "print(effective_A)\n",
    "print(effective_B)\n",
    "print(effective_C)"
   ]
  },
  {
   "cell_type": "code",
   "execution_count": null,
   "id": "8474499d",
   "metadata": {},
   "outputs": [],
   "source": [
    "effective_list = np.array([effective_A,effective_B,effective_C])"
   ]
  },
  {
   "cell_type": "code",
   "execution_count": null,
   "id": "7dccf60e",
   "metadata": {},
   "outputs": [],
   "source": [
    "label = ('A','B','C')\n",
    "plt.bar(label,effective_list,edgecolor = 'k')\n",
    "plt.title(\"Effective comparison\")\n",
    "plt.xlabel(\"Type of bait\")\n",
    "plt.ylabel(\"weight per bait\")\n",
    "\n",
    "index = np.arange(len(label))\n",
    "for a,b in zip(index, effective_list):\n",
    "    plt.text(a,b,'%.2f'%b, ha='center',va='bottom',fontsize=10)\n",
    "\n",
    "plt.savefig(('effective_list.png'))"
   ]
  },
  {
   "cell_type": "code",
   "execution_count": null,
   "id": "057dbc9e",
   "metadata": {
    "scrolled": true
   },
   "outputs": [],
   "source": [
    "time_weight_bait_data.Type.value_counts()"
   ]
  },
  {
   "cell_type": "code",
   "execution_count": null,
   "id": "137dd91a",
   "metadata": {},
   "outputs": [],
   "source": [
    "# 95% confidence interval- Time\n",
    "mean = np.mean(time)\n",
    "sumd = 0\n",
    "for i in range(len(time)):\n",
    "    sumd = sumd + (time[i]-mean)**2\n",
    "sd_pop = math.sqrt(sumd/(len(time)-1))\n",
    "sd_error = sd_pop/math.sqrt(len(time))\n",
    "print(mean - norm.ppf(0.975)*sd_error)\n",
    "print(mean + norm.ppf(0.975)*sd_error)"
   ]
  },
  {
   "cell_type": "code",
   "execution_count": null,
   "id": "9b452926",
   "metadata": {},
   "outputs": [],
   "source": [
    "# 95% confidence interval- Weight\n",
    "mean = np.mean(weight)\n",
    "sumd = 0\n",
    "for i in range(len(weight)):\n",
    "    sumd = sumd + (weight[i]-mean)**2\n",
    "sd_pop = math.sqrt(sumd/(len(weight)-1))\n",
    "sd_error = sd_pop/math.sqrt(len(weight))\n",
    "print(mean - norm.ppf(0.975)*sd_error)\n",
    "print(mean + norm.ppf(0.975)*sd_error)"
   ]
  },
  {
   "cell_type": "code",
   "execution_count": null,
   "id": "b26ff033",
   "metadata": {},
   "outputs": [],
   "source": [
    "df.corr()['Time']"
   ]
  },
  {
   "cell_type": "code",
   "execution_count": null,
   "id": "6b1a4f70",
   "metadata": {},
   "outputs": [],
   "source": [
    "plt.scatter(df['Time'],df['Type'])"
   ]
  },
  {
   "cell_type": "code",
   "execution_count": null,
   "id": "3183656d",
   "metadata": {},
   "outputs": [],
   "source": [
    "plt.scatter(df['Time'],df['Weight'])"
   ]
  },
  {
   "cell_type": "code",
   "execution_count": null,
   "id": "4eef66ac",
   "metadata": {},
   "outputs": [],
   "source": [
    "plt.scatter(df['Weight'],df['Type'])"
   ]
  },
  {
   "cell_type": "code",
   "execution_count": null,
   "id": "f67692a9",
   "metadata": {},
   "outputs": [],
   "source": [
    "time_weight = time_weight_bait_data.drop('Type',axis=1)\n",
    "add_Q = np.array(time_weight.sort_values('Time'))\n",
    "x_time = b\n",
    "y_weight = add_Q[:,1]"
   ]
  },
  {
   "cell_type": "code",
   "execution_count": null,
   "id": "e282a971",
   "metadata": {},
   "outputs": [],
   "source": [
    "time_weight = time_weight_bait_data.drop('Type',axis=1)\n",
    "add_Q = np.array(time_weight.sort_values('Time'))\n",
    "x_time = b\n",
    "y_weight = add_Q[:,1]\n",
    "y_accmutive = []\n",
    "totle = 0\n",
    "for i in range(len(x_time)):\n",
    "    totle = totle + y_weight[i]\n",
    "    y_accmutive.append(totle)\n",
    "from scipy.interpolate import make_interp_spline\n",
    "import matplotlib.pyplot as plt \n",
    "\n",
    "x=np.array(x_time)\n",
    "y=np.array(y_accmutive)\n",
    "\n",
    "model=make_interp_spline(x, y)\n",
    "\n",
    "xs=np.linspace(0,23,1000)\n",
    "ys=model(xs)\n",
    "\n",
    "plt.plot(xs, ys)\n",
    "plt.title(\"Smooth Spline Curve\")\n",
    "plt.xlabel(\"X\")\n",
    "plt.ylabel(\"Y\")\n",
    "plt.show()\n"
   ]
  },
  {
   "cell_type": "code",
   "execution_count": null,
   "id": "b4bd9f57",
   "metadata": {},
   "outputs": [],
   "source": [
    "# plt.plot(add_Q[:,0], y_accmutive,'k--', linewidth=1.5, label='Theoretical')\n",
    "\n",
    "\n",
    "from scipy.interpolate import UnivariateSpline\n",
    "import matplotlib.pyplot as plt \n",
    "xi=np.array(x_time)\n",
    "yi=np.array(y_accmutive)\n",
    "spl = UnivariateSpline(xi, yi, s=0.1)            # s 的取值见下面说明\n",
    "xs = np.linspace(0, 24, 1000)\n",
    "plt.plot(xs, spl(xs))\n",
    "\n",
    "# didh4 = (uvs(0.7001) - uvs(0.7000)) / 0.0001     # 求在 x = 0.7000 附近的导数\n",
    "# print didh4      # 38.5919662219\n",
    "\n",
    "\n",
    "# model=make_interp_spline(add_Q[:,0], y)\n",
    "\n",
    "# xs=np.linspace(1,7,500)\n",
    "# ys=model(xs)\n",
    "\n",
    "# plt.plot(xs, ys)\n",
    "# plt.title(\"Smooth Spline Curve\")\n",
    "# plt.xlabel(\"X\")\n",
    "# plt.ylabel(\"Y\")\n",
    "# plt.show()"
   ]
  },
  {
   "cell_type": "code",
   "execution_count": null,
   "id": "5c7c1f05",
   "metadata": {},
   "outputs": [],
   "source": [
    "df_corr = time_weight_bait_data[['Type','Time','Weight']]"
   ]
  },
  {
   "cell_type": "code",
   "execution_count": null,
   "id": "64fe388c",
   "metadata": {},
   "outputs": [],
   "source": [
    "df_corr"
   ]
  },
  {
   "cell_type": "code",
   "execution_count": null,
   "id": "aa300d2c",
   "metadata": {},
   "outputs": [],
   "source": [
    "CarData=df_corr\n",
    "print(CarData.head())\n",
    "########################################################\n",
    "# f_oneway() function takes the group data as input and \n",
    "# returns F-statistic and P-value\n",
    "# Running the one-way anova test between CarPrice and FuelTypes\n",
    "# Assumption(H0) is that FuelType and CarPrices are NOT correlated\n",
    " \n",
    "# Finds out the Prices data for each FuelType as a list\n",
    "CategoryGroupLists=CarData.groupby('Type')['Weight'].apply(list)\n",
    " \n",
    "# Performing the ANOVA test\n",
    "# We accept the Assumption(H0) only when P-Value &gt; 0.05\n",
    "AnovaResults = f_oneway(*CategoryGroupLists)\n",
    "print('P-Value for Anova is: ', AnovaResults[1])"
   ]
  },
  {
   "cell_type": "code",
   "execution_count": null,
   "id": "d1b28999",
   "metadata": {},
   "outputs": [],
   "source": [
    "label = ('A','B','C')\n",
    "plt.boxplot(CategoryGroupLists,labels=label)\n",
    "plt.title(\"ANOVA Analysis of X and Z distribution\")\n",
    "plt.xlabel(\"Type of bait\")\n",
    "plt.savefig(('ANOVA_X.png'))\n",
    "plt.show()"
   ]
  },
  {
   "cell_type": "code",
   "execution_count": null,
   "id": "eb5ce421",
   "metadata": {},
   "outputs": [],
   "source": [
    "QQ_A=df_corr.loc[df_corr['Type'] == 'A']\n",
    "QQ_A.boxplot(grid = False)\n",
    "plt.show()"
   ]
  },
  {
   "cell_type": "code",
   "execution_count": null,
   "id": "0a1ec5b6",
   "metadata": {},
   "outputs": [],
   "source": [
    "QQ_A.sort_values('Time')"
   ]
  },
  {
   "cell_type": "code",
   "execution_count": null,
   "id": "3d3c788a",
   "metadata": {},
   "outputs": [],
   "source": [
    "QQ_A.describe()"
   ]
  },
  {
   "cell_type": "code",
   "execution_count": null,
   "id": "6d89d82b",
   "metadata": {},
   "outputs": [],
   "source": [
    "QQ_A.corr()"
   ]
  },
  {
   "cell_type": "code",
   "execution_count": null,
   "id": "65362f66",
   "metadata": {},
   "outputs": [],
   "source": [
    "QQ_B=df_corr.loc[df_corr['Type'] == 'B']\n",
    "QQ_B.boxplot(grid = False)\n",
    "plt.show()"
   ]
  },
  {
   "cell_type": "code",
   "execution_count": null,
   "id": "16951160",
   "metadata": {},
   "outputs": [],
   "source": [
    "QQ_B.describe()"
   ]
  },
  {
   "cell_type": "code",
   "execution_count": null,
   "id": "efa2f32c",
   "metadata": {},
   "outputs": [],
   "source": [
    "QQ_C=df_corr.loc[df_corr['Type'] == 'C']\n",
    "\n",
    "print(QQ_C.describe())"
   ]
  },
  {
   "cell_type": "code",
   "execution_count": null,
   "id": "0d3912b1",
   "metadata": {},
   "outputs": [],
   "source": [
    "QQ_C=df_corr.loc[df_corr['Type'] == 'C']\n",
    "QQ_C.boxplot(grid = False)\n",
    "plt.show()"
   ]
  },
  {
   "cell_type": "code",
   "execution_count": null,
   "id": "d1dfa191",
   "metadata": {},
   "outputs": [],
   "source": [
    "QQ_C.describe()"
   ]
  },
  {
   "cell_type": "code",
   "execution_count": null,
   "id": "c90a2cae",
   "metadata": {},
   "outputs": [],
   "source": [
    "RR_A=time_weight_bait_data.loc[df_corr['Type'] == 'A']\n",
    "RR_B=time_weight_bait_data.loc[df_corr['Type'] == 'B']\n",
    "RR_C=time_weight_bait_data.loc[df_corr['Type'] == 'C']\n",
    "arr_RR_A = np.array(RR_A.drop(['Type'],axis = 1))\n",
    "arr_RR_B = np.array(RR_B.drop(['Type'],axis = 1))\n",
    "arr_RR_C = np.array(RR_C.drop(['Type'],axis = 1))\n"
   ]
  },
  {
   "cell_type": "code",
   "execution_count": null,
   "id": "80b14f93",
   "metadata": {},
   "outputs": [],
   "source": [
    "RR_A.describe()"
   ]
  },
  {
   "cell_type": "code",
   "execution_count": null,
   "id": "a4c6d8ae",
   "metadata": {},
   "outputs": [],
   "source": [
    "RR_A_xmean = arr_RR_A[:,0].mean()\n",
    "RR_A_ymean = arr_RR_A[:,1].mean()\n",
    "RR_A_covxy = np.cov(arr_RR_A[:,0],arr_RR_A[:,1])"
   ]
  },
  {
   "cell_type": "code",
   "execution_count": null,
   "id": "847b6afa",
   "metadata": {},
   "outputs": [],
   "source": [
    "RR_A_covxy"
   ]
  },
  {
   "cell_type": "code",
   "execution_count": null,
   "id": "3be5681a",
   "metadata": {},
   "outputs": [],
   "source": [
    "abs(RR_A_covxy[0,1])"
   ]
  },
  {
   "cell_type": "code",
   "execution_count": null,
   "id": "fa5f87d3",
   "metadata": {},
   "outputs": [],
   "source": [
    "RR_B_xmean = arr_RR_B[:,0].mean()\n",
    "RR_B_ymean = arr_RR_B[:,1].mean()\n",
    "RR_B_covxy = np.cov(arr_RR_B[:,0],arr_RR_B[:,1])"
   ]
  },
  {
   "cell_type": "code",
   "execution_count": null,
   "id": "fc85acfd",
   "metadata": {},
   "outputs": [],
   "source": [
    "RR_C_xmean = arr_RR_C[:,0].mean()\n",
    "RR_C_ymean = arr_RR_C[:,1].mean()\n",
    "RR_C_covxy = np.cov(arr_RR_C[:,0],arr_RR_C[:,1])"
   ]
  },
  {
   "cell_type": "code",
   "execution_count": null,
   "id": "d8161a57",
   "metadata": {},
   "outputs": [],
   "source": [
    "mA = np.array([RR_A_xmean,RR_A_ymean])\n",
    "mB = np.array([RR_B_xmean,RR_B_ymean])\n",
    "mC = np.array([RR_C_xmean,RR_C_ymean])"
   ]
  },
  {
   "cell_type": "code",
   "execution_count": null,
   "id": "a6b3b130",
   "metadata": {},
   "outputs": [],
   "source": [
    "cA = RR_A_covxy\n",
    "cB = RR_B_covxy\n",
    "cC = RR_C_covxy"
   ]
  },
  {
   "cell_type": "code",
   "execution_count": null,
   "id": "e9f2fd58",
   "metadata": {},
   "outputs": [],
   "source": [
    "def gauss2D(x, m, C): #Probability density 2D 高斯\n",
    "    n = m.shape[0]\n",
    "    Ci = np.linalg.inv(C) #矩阵求逆\n",
    "    dC = np.linalg.det(Ci) #矩阵求行列式(scaler)\n",
    "    num = np.exp(-0.5 * np.dot((x-m).T, np.dot(Ci, (x-m)))) #马氏\n",
    "    den = np.sqrt((2*np.pi)**n * dC)\n",
    "    return num/den\n",
    "\n",
    "\n",
    "def twoDGaussianPlot (nx, ny, m, C): #\n",
    "    x = np.linspace(0, 20, nx) #均匀返回数字 nx(50)多少个\n",
    "    y = np.linspace(0, 20, ny)\n",
    "    X, Y = np.meshgrid(x, y, indexing='ij') # 返回两个二维矩阵，meshgrid函数将两个输入的数组x和y进行扩展，前一个是竖向扩展，后一个是横向扩展\n",
    "    #X=50*40 T=50*40  ij 为下标\n",
    "    \n",
    "    Z = np.zeros([nx, ny]) #50*40\n",
    "    for i in range(nx):\n",
    "        for j in range(ny):\n",
    "            xvec = np.array([X[i,j], Y[i,j]]) # 50*40的 array 就是二维数组，一个元素是一个（x，y）\n",
    "            Z[i,j] = gauss2D(xvec, m, C)  #返回Probability density\n",
    "    return X, Y, Z\n"
   ]
  },
  {
   "cell_type": "code",
   "execution_count": null,
   "id": "b6857b7a",
   "metadata": {},
   "outputs": [],
   "source": [
    "# Plot contours\n",
    "#\n",
    "nx, ny = 100, 80\n",
    "Xp1, Yp1, Zp1 = twoDGaussianPlot (nx, ny, mA, cA)\n",
    "Xp2, Yp2, Zp2 = twoDGaussianPlot (nx, ny, mB, cB)\n",
    "Xp3, Yp3, Zp3 = twoDGaussianPlot (nx, ny, mC, cC)"
   ]
  },
  {
   "cell_type": "code",
   "execution_count": null,
   "id": "be427547",
   "metadata": {},
   "outputs": [],
   "source": [
    "fig, ax = plt.subplots()\n",
    "ax.scatter(RR_A['Time'],RR_A['Weight'],c='r',label = 'A')\n",
    "ax.scatter(RR_B['Time'],RR_B['Weight'],c='g',label = 'B')\n",
    "ax.scatter(RR_C['Time'],RR_C['Weight'],c='b',label = 'C')\n",
    "ax.set_xlim(0, 24)\n",
    "ax.set_ylim(0, 5.5)\n",
    "ax.contour(Xp1, Yp1, Zp1, 1,colors = 'r')\n",
    "ax.contour(Xp2, Yp2, Zp2, 1,colors = 'g')\n",
    "ax.contour(Xp3, Yp3, Zp3, 1,colors = 'b')\n",
    "plt.xlabel('Time of catch')\n",
    "plt.ylabel('Size of catch')\n",
    "plt.title('X,Y,Z distribution')\n",
    "plt.legend()\n",
    "plt.savefig(('XYZ_distribution'))"
   ]
  },
  {
   "cell_type": "code",
   "execution_count": null,
   "id": "a42bd06e",
   "metadata": {},
   "outputs": [],
   "source": [
    "# import statsmodels.api as sm\n",
    "# time_weight_bait_data_sorted = time_weight_bait_data.sort_values(\"Time\")\n",
    "# x = time_weight_bait_data_sorted.iloc[:200,0]\n",
    "# y = time_weight_bait_data_sorted.iloc[:200,1]\n",
    "# x = sm.add_constant(x)\n",
    "# model = sm.OLS(y,x).fit()\n",
    "# print(model.summary())"
   ]
  },
  {
   "cell_type": "code",
   "execution_count": null,
   "id": "0820d27a",
   "metadata": {},
   "outputs": [],
   "source": [
    "# predicts = model.predict()\n",
    "# x_test = time_weight_bait_data_sorted.iloc[200:,0]\n",
    "# y_test = time_weight_bait_data_sorted.iloc[200:,1]\n",
    "# plt.scatter(x_test,y_test,label='real value')\n",
    "# plt.plot(x_test,predicts, color = 'red', label = 'predict value')\n",
    "# plt.legend()\n",
    "# plt.show()"
   ]
  },
  {
   "cell_type": "code",
   "execution_count": null,
   "id": "b67697a7",
   "metadata": {},
   "outputs": [],
   "source": [
    "QQ_A.columns = ['Type of bait','Time of catch','Size of catch']"
   ]
  },
  {
   "cell_type": "code",
   "execution_count": null,
   "id": "c8f374f8",
   "metadata": {},
   "outputs": [],
   "source": [
    "# Create a regplot to figure out the correlation\n",
    "\n",
    "ax = sns.regplot(x=\"Time of catch\", y=\"Size of catch\", data=QQ_A)\n",
    "ax.set_title('X,Y relation for A bait')\n",
    "plt.savefig(('XY_corr_A.png'))\n",
    "# What is the regression method that this function uses? \n",
    "# Try to read its documents and find out"
   ]
  },
  {
   "cell_type": "code",
   "execution_count": null,
   "id": "715fa81d",
   "metadata": {},
   "outputs": [],
   "source": [
    "QQ_A.boxplot(grid = False)\n",
    "plt.title('Box plot of X,Y for A bait')\n",
    "plt.savefig(('outlier_XY.png'))"
   ]
  },
  {
   "cell_type": "code",
   "execution_count": null,
   "id": "22d8ef18",
   "metadata": {},
   "outputs": [],
   "source": [
    "print(QQ_A.corr())\n",
    "print(QQ_A)"
   ]
  },
  {
   "cell_type": "code",
   "execution_count": null,
   "id": "e49bfc51",
   "metadata": {},
   "outputs": [],
   "source": [
    "data =QQ_A.drop(['Type'],axis = 1)"
   ]
  },
  {
   "cell_type": "code",
   "execution_count": null,
   "id": "6d2e6467",
   "metadata": {},
   "outputs": [],
   "source": [
    "data"
   ]
  },
  {
   "cell_type": "code",
   "execution_count": null,
   "id": "ffd85f42",
   "metadata": {},
   "outputs": [],
   "source": [
    "#除去outlier  没什么用\n",
    "df = data\n",
    "df = df.to_numpy()\n",
    "# Covariance matrix\n",
    "covariance  = np.cov(df , rowvar=False)\n",
    "\n",
    "# Covariance matrix power of -1\n",
    "covariance_pm1 = np.linalg.inv(covariance)\n",
    "\n",
    "# Center point\n",
    "centerpoint = np.mean(df, axis=0)\n",
    "# Distances between center point and \n",
    "distances = []#i=78\n",
    "for i, val in enumerate(df):\n",
    "    p1 = val\n",
    "    p2 = centerpoint\n",
    "    distance = np.dot((p1-p2).T, np.dot(covariance_pm1, (p1-p2)))\n",
    "    #(p1-p2).T.dot(covariance_pm1).dot(p1-p2)\n",
    "    distances.append(distance)\n",
    "distances = np.array(distances)\n",
    "\n",
    "# Cutoff (threshold) value from Chi-Sqaure Distribution for detecting outliers \n",
    "cutoff = chi2.ppf(0.95, df.shape[1])\n",
    "\n",
    "# Index of outliers\n",
    "outlierIndexes = np.where(distances > cutoff )\n",
    "\n",
    "print('--- Index of Outliers ----')\n",
    "print(outlierIndexes)\n",
    "# array([24, 35, 67, 81])\n"
   ]
  },
  {
   "cell_type": "code",
   "execution_count": null,
   "id": "5b40541c",
   "metadata": {},
   "outputs": [],
   "source": [
    "print(df[26,:],df[30,:],df[47,:],df[51,:],df[57,:])"
   ]
  },
  {
   "cell_type": "code",
   "execution_count": null,
   "id": "34e3ad0f",
   "metadata": {},
   "outputs": [],
   "source": [
    "df = df[distances<=cutoff,:]"
   ]
  },
  {
   "cell_type": "code",
   "execution_count": null,
   "id": "b2eebb9b",
   "metadata": {},
   "outputs": [],
   "source": [
    "## Finding ellipse dimensions \n",
    "# pearson = covariance[0, 1]/np.sqrt(covariance[0, 0] * covariance[1, 1])\n",
    "# ell_radius_x = np.sqrt(1 + pearson)\n",
    "# ell_radius_y = np.sqrt(1 - pearson)\n",
    "lambda_, v = np.linalg.eig(covariance)\n",
    "lambda_ = np.sqrt(lambda_)\n",
    "\n",
    "# Ellipse patch\n",
    "ellipse = patches.Ellipse(xy=(centerpoint[0], centerpoint[1]),\n",
    "                  width=lambda_[0]*np.sqrt(cutoff)*2, height=lambda_[1]*np.sqrt(cutoff)*2,\n",
    "                  angle=np.rad2deg(np.arccos(-v[0, 0])), edgecolor='#fab1a0')\n",
    "ellipse.set_facecolor('#0984e3')\n",
    "fig = plt.figure()\n",
    "ax = plt.subplot()\n",
    "ax.add_artist(ellipse)\n",
    "ellipse.set_alpha(0.3)\n",
    "ax.scatter(df[: , 0], df[ : , 1],label = 'inlier')\n",
    "ax.scatter(4.24,4.5, c='r',label = 'outlier')\n",
    "ax.scatter(19.95,1.3, c='r')\n",
    "ax.scatter(18.22,1.92, c='r')\n",
    "ax.scatter(3.16,4.88, c='r')\n",
    "ax.scatter(2.079e+01,1.000e-02, c='r')\n",
    "ax.plot(df[: , 0],intercept+slope*df[: , 0],'#EDFA00',label = 'fitted line')\n",
    "ax.set_title('outlier detection')\n",
    "plt.xlabel('Time of catch')\n",
    "plt.ylabel('Size of catch')\n",
    "plt.legend()\n",
    "plt.savefig(('eliminate_outlier.png'))"
   ]
  },
  {
   "cell_type": "code",
   "execution_count": null,
   "id": "ca219613",
   "metadata": {},
   "outputs": [],
   "source": [
    "import scipy.stats as st\n",
    "slope, intercept,r_vaue,p_value,std_err = st.linregress(df[:,0],df[:,1])"
   ]
  },
  {
   "cell_type": "code",
   "execution_count": null,
   "id": "f91b35ef",
   "metadata": {},
   "outputs": [],
   "source": [
    "print(slope)\n",
    "print(intercept)\n",
    "print(r_vaue)\n",
    "print(p_value)\n",
    "print(std_err)"
   ]
  },
  {
   "cell_type": "code",
   "execution_count": null,
   "id": "26506060",
   "metadata": {},
   "outputs": [],
   "source": [
    "\n",
    "df=pd.DataFrame(df,index = None,columns = ['a','b'])\n",
    "sns.regplot(x=\"a\", y=\"b\", data=df)\n",
    "plt.title('X,Y relation for A bait after eliminating outliers')\n",
    "plt.xlabel('Time of catch')\n",
    "plt.ylabel('Size of catch')\n",
    "plt.savefig(('eliminate_results.png'))"
   ]
  },
  {
   "cell_type": "code",
   "execution_count": null,
   "id": "192f8e34",
   "metadata": {},
   "outputs": [],
   "source": [
    "df.corr()"
   ]
  },
  {
   "cell_type": "code",
   "execution_count": null,
   "id": "e2bc28b6",
   "metadata": {},
   "outputs": [],
   "source": [
    "time_A =np.array(QQ_A['Time'])\n",
    "time_A = np.sort(time_A)\n",
    "#算IQR of Time_A\n",
    "\n",
    "median = 3.570000\n",
    "Q1 = 1.975000\n",
    "Q3 = 8.465000\n",
    "IQR = Q3-Q1\n",
    "\n",
    "ex_min = Q1-1.5*IQR\n",
    "ex_max = Q3+1.5*IQR"
   ]
  },
  {
   "cell_type": "code",
   "execution_count": null,
   "id": "afb71e96",
   "metadata": {},
   "outputs": [],
   "source": [
    "print(ex_min)\n",
    "print(ex_max)"
   ]
  },
  {
   "cell_type": "code",
   "execution_count": null,
   "id": "e138c825",
   "metadata": {},
   "outputs": [],
   "source": [
    "QQ_A.describe()"
   ]
  },
  {
   "cell_type": "code",
   "execution_count": null,
   "id": "23decce0",
   "metadata": {},
   "outputs": [],
   "source": [
    "time_A"
   ]
  },
  {
   "cell_type": "code",
   "execution_count": null,
   "id": "6d96a18c",
   "metadata": {},
   "outputs": [],
   "source": [
    "Weight_A =np.array(QQ_A['Weight'])\n",
    "Weight_A = np.sort(Weight_A)\n",
    "#算IQR of Time_A\n",
    "\n",
    "median = 1.340000\n",
    "Q1 = 0.780000\n",
    "Q3 = 2.085000\n",
    "IQR = Q3-Q1\n",
    "\n",
    "ex_min = Q1-1.5*IQR\n",
    "ex_max = Q3+1.5*IQR\n",
    "print(ex_min)\n",
    "print(ex_max)"
   ]
  },
  {
   "cell_type": "code",
   "execution_count": null,
   "id": "9154ba18",
   "metadata": {},
   "outputs": [],
   "source": [
    "Weight_A"
   ]
  },
  {
   "cell_type": "code",
   "execution_count": null,
   "id": "ad86d242",
   "metadata": {},
   "outputs": [],
   "source": [
    "QQ_A_arr = QQ_A.sort_values('Time')"
   ]
  },
  {
   "cell_type": "code",
   "execution_count": null,
   "id": "7f5216d0",
   "metadata": {},
   "outputs": [],
   "source": [
    "QQ_A_arr"
   ]
  },
  {
   "cell_type": "code",
   "execution_count": null,
   "id": "8a24e0c0",
   "metadata": {},
   "outputs": [],
   "source": [
    "# Create a regplot to figure out the correlation\n",
    "\n",
    "sns.regplot(x=\"Time\", y=\"Weight\", data=QQ_B)\n",
    "\n",
    "# What is the regression method that this function uses? \n",
    "# Try to read its documents and find out"
   ]
  },
  {
   "cell_type": "code",
   "execution_count": null,
   "id": "0a1ffe15",
   "metadata": {},
   "outputs": [],
   "source": [
    "QQ_B.corr()"
   ]
  },
  {
   "cell_type": "code",
   "execution_count": null,
   "id": "2ab561d9",
   "metadata": {},
   "outputs": [],
   "source": [
    "# Create a regplot to figure out the correlation\n",
    "\n",
    "sns.regplot(x=\"Time\", y=\"Weight\", data=QQ_C)\n",
    "\n",
    "# What is the regression method that this function uses? \n",
    "# Try to read its documents and find out"
   ]
  },
  {
   "cell_type": "code",
   "execution_count": null,
   "id": "aacbdfef",
   "metadata": {},
   "outputs": [],
   "source": [
    "QQ_C.corr()"
   ]
  },
  {
   "cell_type": "code",
   "execution_count": null,
   "id": "3bc08ed4",
   "metadata": {},
   "outputs": [],
   "source": []
  },
  {
   "cell_type": "code",
   "execution_count": null,
   "id": "370c90ff",
   "metadata": {},
   "outputs": [],
   "source": []
  }
 ],
 "metadata": {
  "kernelspec": {
   "display_name": "Python 3",
   "language": "python",
   "name": "python3"
  },
  "language_info": {
   "codemirror_mode": {
    "name": "ipython",
    "version": 3
   },
   "file_extension": ".py",
   "mimetype": "text/x-python",
   "name": "python",
   "nbconvert_exporter": "python",
   "pygments_lexer": "ipython3",
   "version": "3.6.13"
  }
 },
 "nbformat": 4,
 "nbformat_minor": 5
}
